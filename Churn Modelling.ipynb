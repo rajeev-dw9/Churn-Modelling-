{
 "cells": [
  {
   "cell_type": "code",
   "execution_count": 3,
   "id": "ordinary-mouse",
   "metadata": {},
   "outputs": [],
   "source": [
    "# Importing Libraries\n",
    "import numpy as np\n",
    "import matplotlib.pyplot as plt\n",
    "import pandas as pd\n"
   ]
  },
  {
   "cell_type": "code",
   "execution_count": 4,
   "id": "optional-essay",
   "metadata": {},
   "outputs": [],
   "source": [
    "# Importing DATASET\n",
    "\n",
    "dataset= pd.read_csv('Churn_Modelling.csv')"
   ]
  },
  {
   "cell_type": "code",
   "execution_count": 6,
   "id": "dominican-surface",
   "metadata": {},
   "outputs": [
    {
     "data": {
      "text/html": [
       "<div>\n",
       "<style scoped>\n",
       "    .dataframe tbody tr th:only-of-type {\n",
       "        vertical-align: middle;\n",
       "    }\n",
       "\n",
       "    .dataframe tbody tr th {\n",
       "        vertical-align: top;\n",
       "    }\n",
       "\n",
       "    .dataframe thead th {\n",
       "        text-align: right;\n",
       "    }\n",
       "</style>\n",
       "<table border=\"1\" class=\"dataframe\">\n",
       "  <thead>\n",
       "    <tr style=\"text-align: right;\">\n",
       "      <th></th>\n",
       "      <th>RowNumber</th>\n",
       "      <th>CustomerId</th>\n",
       "      <th>CreditScore</th>\n",
       "      <th>Age</th>\n",
       "      <th>Tenure</th>\n",
       "      <th>Balance</th>\n",
       "      <th>NumOfProducts</th>\n",
       "      <th>HasCrCard</th>\n",
       "      <th>IsActiveMember</th>\n",
       "      <th>EstimatedSalary</th>\n",
       "      <th>Exited</th>\n",
       "    </tr>\n",
       "  </thead>\n",
       "  <tbody>\n",
       "    <tr>\n",
       "      <th>count</th>\n",
       "      <td>10000.00000</td>\n",
       "      <td>1.000000e+04</td>\n",
       "      <td>10000.000000</td>\n",
       "      <td>10000.000000</td>\n",
       "      <td>10000.000000</td>\n",
       "      <td>10000.000000</td>\n",
       "      <td>10000.000000</td>\n",
       "      <td>10000.00000</td>\n",
       "      <td>10000.000000</td>\n",
       "      <td>10000.000000</td>\n",
       "      <td>10000.000000</td>\n",
       "    </tr>\n",
       "    <tr>\n",
       "      <th>mean</th>\n",
       "      <td>5000.50000</td>\n",
       "      <td>1.569094e+07</td>\n",
       "      <td>650.528800</td>\n",
       "      <td>38.921800</td>\n",
       "      <td>5.012800</td>\n",
       "      <td>76485.889288</td>\n",
       "      <td>1.530200</td>\n",
       "      <td>0.70550</td>\n",
       "      <td>0.515100</td>\n",
       "      <td>100090.239881</td>\n",
       "      <td>0.203700</td>\n",
       "    </tr>\n",
       "    <tr>\n",
       "      <th>std</th>\n",
       "      <td>2886.89568</td>\n",
       "      <td>7.193619e+04</td>\n",
       "      <td>96.653299</td>\n",
       "      <td>10.487806</td>\n",
       "      <td>2.892174</td>\n",
       "      <td>62397.405202</td>\n",
       "      <td>0.581654</td>\n",
       "      <td>0.45584</td>\n",
       "      <td>0.499797</td>\n",
       "      <td>57510.492818</td>\n",
       "      <td>0.402769</td>\n",
       "    </tr>\n",
       "    <tr>\n",
       "      <th>min</th>\n",
       "      <td>1.00000</td>\n",
       "      <td>1.556570e+07</td>\n",
       "      <td>350.000000</td>\n",
       "      <td>18.000000</td>\n",
       "      <td>0.000000</td>\n",
       "      <td>0.000000</td>\n",
       "      <td>1.000000</td>\n",
       "      <td>0.00000</td>\n",
       "      <td>0.000000</td>\n",
       "      <td>11.580000</td>\n",
       "      <td>0.000000</td>\n",
       "    </tr>\n",
       "    <tr>\n",
       "      <th>25%</th>\n",
       "      <td>2500.75000</td>\n",
       "      <td>1.562853e+07</td>\n",
       "      <td>584.000000</td>\n",
       "      <td>32.000000</td>\n",
       "      <td>3.000000</td>\n",
       "      <td>0.000000</td>\n",
       "      <td>1.000000</td>\n",
       "      <td>0.00000</td>\n",
       "      <td>0.000000</td>\n",
       "      <td>51002.110000</td>\n",
       "      <td>0.000000</td>\n",
       "    </tr>\n",
       "    <tr>\n",
       "      <th>50%</th>\n",
       "      <td>5000.50000</td>\n",
       "      <td>1.569074e+07</td>\n",
       "      <td>652.000000</td>\n",
       "      <td>37.000000</td>\n",
       "      <td>5.000000</td>\n",
       "      <td>97198.540000</td>\n",
       "      <td>1.000000</td>\n",
       "      <td>1.00000</td>\n",
       "      <td>1.000000</td>\n",
       "      <td>100193.915000</td>\n",
       "      <td>0.000000</td>\n",
       "    </tr>\n",
       "    <tr>\n",
       "      <th>75%</th>\n",
       "      <td>7500.25000</td>\n",
       "      <td>1.575323e+07</td>\n",
       "      <td>718.000000</td>\n",
       "      <td>44.000000</td>\n",
       "      <td>7.000000</td>\n",
       "      <td>127644.240000</td>\n",
       "      <td>2.000000</td>\n",
       "      <td>1.00000</td>\n",
       "      <td>1.000000</td>\n",
       "      <td>149388.247500</td>\n",
       "      <td>0.000000</td>\n",
       "    </tr>\n",
       "    <tr>\n",
       "      <th>max</th>\n",
       "      <td>10000.00000</td>\n",
       "      <td>1.581569e+07</td>\n",
       "      <td>850.000000</td>\n",
       "      <td>92.000000</td>\n",
       "      <td>10.000000</td>\n",
       "      <td>250898.090000</td>\n",
       "      <td>4.000000</td>\n",
       "      <td>1.00000</td>\n",
       "      <td>1.000000</td>\n",
       "      <td>199992.480000</td>\n",
       "      <td>1.000000</td>\n",
       "    </tr>\n",
       "  </tbody>\n",
       "</table>\n",
       "</div>"
      ],
      "text/plain": [
       "         RowNumber    CustomerId   CreditScore           Age        Tenure  \\\n",
       "count  10000.00000  1.000000e+04  10000.000000  10000.000000  10000.000000   \n",
       "mean    5000.50000  1.569094e+07    650.528800     38.921800      5.012800   \n",
       "std     2886.89568  7.193619e+04     96.653299     10.487806      2.892174   \n",
       "min        1.00000  1.556570e+07    350.000000     18.000000      0.000000   \n",
       "25%     2500.75000  1.562853e+07    584.000000     32.000000      3.000000   \n",
       "50%     5000.50000  1.569074e+07    652.000000     37.000000      5.000000   \n",
       "75%     7500.25000  1.575323e+07    718.000000     44.000000      7.000000   \n",
       "max    10000.00000  1.581569e+07    850.000000     92.000000     10.000000   \n",
       "\n",
       "             Balance  NumOfProducts    HasCrCard  IsActiveMember  \\\n",
       "count   10000.000000   10000.000000  10000.00000    10000.000000   \n",
       "mean    76485.889288       1.530200      0.70550        0.515100   \n",
       "std     62397.405202       0.581654      0.45584        0.499797   \n",
       "min         0.000000       1.000000      0.00000        0.000000   \n",
       "25%         0.000000       1.000000      0.00000        0.000000   \n",
       "50%     97198.540000       1.000000      1.00000        1.000000   \n",
       "75%    127644.240000       2.000000      1.00000        1.000000   \n",
       "max    250898.090000       4.000000      1.00000        1.000000   \n",
       "\n",
       "       EstimatedSalary        Exited  \n",
       "count     10000.000000  10000.000000  \n",
       "mean     100090.239881      0.203700  \n",
       "std       57510.492818      0.402769  \n",
       "min          11.580000      0.000000  \n",
       "25%       51002.110000      0.000000  \n",
       "50%      100193.915000      0.000000  \n",
       "75%      149388.247500      0.000000  \n",
       "max      199992.480000      1.000000  "
      ]
     },
     "execution_count": 6,
     "metadata": {},
     "output_type": "execute_result"
    }
   ],
   "source": [
    "dataset\n",
    "\n",
    "dataset.groupby('Geography').count()\n"
   ]
  },
  {
   "cell_type": "code",
   "execution_count": 4,
   "id": "worth-mouth",
   "metadata": {},
   "outputs": [
    {
     "data": {
      "text/plain": [
       "RowNumber          0\n",
       "CustomerId         0\n",
       "Surname            0\n",
       "CreditScore        0\n",
       "Geography          0\n",
       "Gender             0\n",
       "Age                0\n",
       "Tenure             0\n",
       "Balance            0\n",
       "NumOfProducts      0\n",
       "HasCrCard          0\n",
       "IsActiveMember     0\n",
       "EstimatedSalary    0\n",
       "Exited             0\n",
       "dtype: int64"
      ]
     },
     "execution_count": 4,
     "metadata": {},
     "output_type": "execute_result"
    }
   ],
   "source": [
    "dataset.isnull().sum()"
   ]
  },
  {
   "cell_type": "code",
   "execution_count": 5,
   "id": "horizontal-network",
   "metadata": {},
   "outputs": [],
   "source": [
    "# Extracting Columns from dataset\n",
    "X = dataset.iloc[:,3:13]\n",
    "Y = dataset.iloc[:,13]"
   ]
  },
  {
   "cell_type": "code",
   "execution_count": 6,
   "id": "adopted-twins",
   "metadata": {},
   "outputs": [],
   "source": [
    "# Creating dummy variables(EMPTY COLUMNS) for converting categorical features  to numerical and storing them \n",
    "geography=pd.get_dummies(X[\"Geography\"],drop_first=True)\n",
    "gender=pd.get_dummies(X['Gender'],drop_first=True)"
   ]
  },
  {
   "cell_type": "code",
   "execution_count": 7,
   "id": "former-mixer",
   "metadata": {},
   "outputs": [],
   "source": [
    "## Concatenate the Data Frames\n",
    "## Add the dummy columns to main dataset\n",
    "X=pd.concat([X,geography,gender],axis=1)\n",
    "\n",
    "## Drop Unnecessary columns\n",
    "X=X.drop(['Geography','Gender'],axis=1)\n"
   ]
  },
  {
   "cell_type": "code",
   "execution_count": 8,
   "id": "attended-seattle",
   "metadata": {},
   "outputs": [],
   "source": [
    "from sklearn.model_selection import train_test_split\n",
    "# Splitting the dataset into the Training set and Test set\n",
    "X_train, X_test, Y_train,Y_test = train_test_split(X,Y, test_size=0.2, random_state=0)"
   ]
  },
  {
   "cell_type": "code",
   "execution_count": 9,
   "id": "lined-mailman",
   "metadata": {},
   "outputs": [],
   "source": [
    "# Feature Scaling\n",
    "from sklearn.preprocessing import StandardScaler\n",
    "sc = StandardScaler()\n",
    "X_train = sc.fit_transform(X_train)\n",
    "X_test = sc.transform(X_test)"
   ]
  },
  {
   "cell_type": "code",
   "execution_count": 10,
   "id": "single-partition",
   "metadata": {},
   "outputs": [
    {
     "name": "stderr",
     "output_type": "stream",
     "text": [
      "/usr/lib/python3/dist-packages/requests/__init__.py:89: RequestsDependencyWarning: urllib3 (1.26.6) or chardet (3.0.4) doesn't match a supported version!\n",
      "  warnings.warn(\"urllib3 ({}) or chardet ({}) doesn't match a supported \"\n"
     ]
    }
   ],
   "source": [
    "# Part 2 - Now let's make the ANN!\n",
    "\n",
    "# Importing the Keras libraries and packages\n",
    "import keras\n",
    "\n",
    "from keras.models import Sequential\n",
    "from keras.layers import Dense, Activation, Embedding, Flatten, LeakyReLU, BatchNormalization, Dropout\n",
    "from keras.activations import relu, sigmoid\n",
    "from keras.layers import LeakyReLU\n",
    "\n",
    "from sklearn.preprocessing import StandardScaler"
   ]
  },
  {
   "cell_type": "code",
   "execution_count": 11,
   "id": "assumed-pixel",
   "metadata": {},
   "outputs": [],
   "source": [
    "from keras.wrappers.scikit_learn import KerasClassifier\n",
    "from sklearn.model_selection import GridSearchCV"
   ]
  },
  {
   "cell_type": "code",
   "execution_count": 12,
   "id": "existing-trout",
   "metadata": {},
   "outputs": [
    {
     "name": "stderr",
     "output_type": "stream",
     "text": [
      "<ipython-input-12-287853c6df44>:15: DeprecationWarning: KerasClassifier is deprecated, use Sci-Keras (https://github.com/adriangb/scikeras) instead. See https://www.adriangb.com/scikeras/stable/migration.html for help migrating.\n",
      "  model = KerasClassifier(build_fn=create_model, verbose=0)\n"
     ]
    }
   ],
   "source": [
    "def create_model(layers, activation):\n",
    "    model = Sequential()\n",
    "    for i, nodes in enumerate(layers):\n",
    "        if i==0:\n",
    "            model.add(Dense(nodes,input_dim=X_train.shape[1]))\n",
    "            model.add(Activation(activation))\n",
    "        else:\n",
    "            model.add(Dense(nodes))\n",
    "            model.add(Activation(activation))\n",
    "    model.add(Dense(1)) # Note: no activation beyond this point\n",
    "    \n",
    "    model.compile(optimizer='adam', loss='binary_crossentropy',metrics=['accuracy'])\n",
    "    return model\n",
    "    \n",
    "model = KerasClassifier(build_fn=create_model, verbose=0)"
   ]
  },
  {
   "cell_type": "code",
   "execution_count": 13,
   "id": "distinguished-conservative",
   "metadata": {},
   "outputs": [
    {
     "data": {
      "text/plain": [
       "<keras.wrappers.scikit_learn.KerasClassifier at 0x7f4c236a9520>"
      ]
     },
     "execution_count": 13,
     "metadata": {},
     "output_type": "execute_result"
    }
   ],
   "source": [
    "model"
   ]
  },
  {
   "cell_type": "code",
   "execution_count": 14,
   "id": "convinced-bulgarian",
   "metadata": {},
   "outputs": [],
   "source": [
    "layers = [[20], [40, 20], [45, 30, 15]]\n",
    "activations = ['sigmoid', 'relu']\n",
    "param_grid = dict(layers=layers, activation=activations, batch_size = [128, 256], epochs=[30])\n",
    "grid = GridSearchCV(estimator=model, param_grid=param_grid)"
   ]
  },
  {
   "cell_type": "code",
   "execution_count": 15,
   "id": "brief-monroe",
   "metadata": {},
   "outputs": [],
   "source": [
    "grid_result = grid.fit(X_train, Y_train)"
   ]
  },
  {
   "cell_type": "code",
   "execution_count": 16,
   "id": "civilian-greene",
   "metadata": {},
   "outputs": [
    {
     "data": {
      "text/plain": [
       "[0.8525000095367432,\n",
       " {'activation': 'relu',\n",
       "  'batch_size': 128,\n",
       "  'epochs': 30,\n",
       "  'layers': [45, 30, 15]}]"
      ]
     },
     "execution_count": 16,
     "metadata": {},
     "output_type": "execute_result"
    }
   ],
   "source": [
    "[grid_result.best_score_,grid_result.best_params_]"
   ]
  },
  {
   "cell_type": "code",
   "execution_count": 17,
   "id": "desirable-seven",
   "metadata": {},
   "outputs": [],
   "source": [
    "pred_y = grid.predict(X_test)"
   ]
  },
  {
   "cell_type": "code",
   "execution_count": null,
   "id": "economic-savings",
   "metadata": {},
   "outputs": [],
   "source": []
  },
  {
   "cell_type": "code",
   "execution_count": 18,
   "id": "together-victoria",
   "metadata": {},
   "outputs": [],
   "source": [
    "\n",
    "\n",
    "\n",
    "# Initialising the ANN\n",
    "# Empty NN\n",
    "classifier = Sequential()"
   ]
  },
  {
   "cell_type": "code",
   "execution_count": 19,
   "id": "broad-eligibility",
   "metadata": {},
   "outputs": [],
   "source": [
    "# Input & 1st hidden layer\n",
    "# Adding the input layer and the first hidden layer\n",
    "classifier.add(Dense(units = 6, kernel_initializer = 'he_uniform',activation='relu',input_dim = 11))\n"
   ]
  },
  {
   "cell_type": "code",
   "execution_count": 20,
   "id": "prerequisite-halloween",
   "metadata": {},
   "outputs": [],
   "source": [
    "# 2nd hidden layer\n",
    "# Adding the second hidden layer\n",
    "classifier.add(Dense(units = 6, kernel_initializer = 'he_uniform',activation='relu'))\n"
   ]
  },
  {
   "cell_type": "code",
   "execution_count": 21,
   "id": "confused-tulsa",
   "metadata": {},
   "outputs": [],
   "source": [
    "# Output layer\n",
    "# Adding the output layer\n",
    "classifier.add(Dense(units = 1, kernel_initializer = 'glorot_uniform',activation='sigmoid'))\n"
   ]
  },
  {
   "cell_type": "code",
   "execution_count": 22,
   "id": "native-flood",
   "metadata": {},
   "outputs": [
    {
     "name": "stdout",
     "output_type": "stream",
     "text": [
      "Model: \"sequential_61\"\n",
      "_________________________________________________________________\n",
      " Layer (type)                Output Shape              Param #   \n",
      "=================================================================\n",
      " dense_184 (Dense)           (None, 6)                 72        \n",
      "                                                                 \n",
      " dense_185 (Dense)           (None, 6)                 42        \n",
      "                                                                 \n",
      " dense_186 (Dense)           (None, 1)                 7         \n",
      "                                                                 \n",
      "=================================================================\n",
      "Total params: 121\n",
      "Trainable params: 121\n",
      "Non-trainable params: 0\n",
      "_________________________________________________________________\n"
     ]
    }
   ],
   "source": [
    "classifier.summary()"
   ]
  },
  {
   "cell_type": "code",
   "execution_count": 23,
   "id": "buried-startup",
   "metadata": {},
   "outputs": [],
   "source": [
    "# Compiling the ANN\n",
    "classifier.compile(optimizer = 'adam', loss = 'binary_crossentropy', metrics = ['accuracy'])\n"
   ]
  },
  {
   "cell_type": "code",
   "execution_count": 24,
   "id": "discrete-motor",
   "metadata": {},
   "outputs": [
    {
     "name": "stdout",
     "output_type": "stream",
     "text": [
      "Epoch 1/200\n",
      "54/54 [==============================] - 1s 7ms/step - loss: 0.5378 - accuracy: 0.7932 - val_loss: 0.5141 - val_accuracy: 0.7902\n",
      "Epoch 2/200\n",
      "54/54 [==============================] - 0s 4ms/step - loss: 0.5103 - accuracy: 0.7959 - val_loss: 0.4953 - val_accuracy: 0.7940\n",
      "Epoch 3/200\n",
      "54/54 [==============================] - 0s 4ms/step - loss: 0.4923 - accuracy: 0.7962 - val_loss: 0.4828 - val_accuracy: 0.7955\n",
      "Epoch 4/200\n",
      "54/54 [==============================] - 0s 3ms/step - loss: 0.4797 - accuracy: 0.7962 - val_loss: 0.4737 - val_accuracy: 0.7955\n",
      "Epoch 5/200\n",
      "54/54 [==============================] - 0s 3ms/step - loss: 0.4703 - accuracy: 0.7962 - val_loss: 0.4663 - val_accuracy: 0.7955\n",
      "Epoch 6/200\n",
      "54/54 [==============================] - 0s 4ms/step - loss: 0.4631 - accuracy: 0.7962 - val_loss: 0.4612 - val_accuracy: 0.7955\n",
      "Epoch 7/200\n",
      "54/54 [==============================] - 0s 3ms/step - loss: 0.4572 - accuracy: 0.7962 - val_loss: 0.4567 - val_accuracy: 0.7955\n",
      "Epoch 8/200\n",
      "54/54 [==============================] - 0s 6ms/step - loss: 0.4524 - accuracy: 0.7962 - val_loss: 0.4530 - val_accuracy: 0.7955\n",
      "Epoch 9/200\n",
      "54/54 [==============================] - 0s 3ms/step - loss: 0.4485 - accuracy: 0.7964 - val_loss: 0.4502 - val_accuracy: 0.7959\n",
      "Epoch 10/200\n",
      "54/54 [==============================] - 0s 3ms/step - loss: 0.4451 - accuracy: 0.7964 - val_loss: 0.4475 - val_accuracy: 0.7959\n",
      "Epoch 11/200\n",
      "54/54 [==============================] - 0s 3ms/step - loss: 0.4421 - accuracy: 0.7966 - val_loss: 0.4451 - val_accuracy: 0.7955\n",
      "Epoch 12/200\n",
      "54/54 [==============================] - 0s 3ms/step - loss: 0.4396 - accuracy: 0.7972 - val_loss: 0.4430 - val_accuracy: 0.7959\n",
      "Epoch 13/200\n",
      "54/54 [==============================] - 0s 3ms/step - loss: 0.4372 - accuracy: 0.7979 - val_loss: 0.4414 - val_accuracy: 0.7952\n",
      "Epoch 14/200\n",
      "54/54 [==============================] - 0s 4ms/step - loss: 0.4352 - accuracy: 0.7977 - val_loss: 0.4398 - val_accuracy: 0.7967\n",
      "Epoch 15/200\n",
      "54/54 [==============================] - 0s 4ms/step - loss: 0.4334 - accuracy: 0.7983 - val_loss: 0.4382 - val_accuracy: 0.7978\n",
      "Epoch 16/200\n",
      "54/54 [==============================] - 0s 4ms/step - loss: 0.4320 - accuracy: 0.8000 - val_loss: 0.4372 - val_accuracy: 0.7989\n",
      "Epoch 17/200\n",
      "54/54 [==============================] - 0s 4ms/step - loss: 0.4304 - accuracy: 0.7998 - val_loss: 0.4359 - val_accuracy: 0.7997\n",
      "Epoch 18/200\n",
      "54/54 [==============================] - 0s 3ms/step - loss: 0.4290 - accuracy: 0.7996 - val_loss: 0.4346 - val_accuracy: 0.7997\n",
      "Epoch 19/200\n",
      "54/54 [==============================] - 0s 6ms/step - loss: 0.4275 - accuracy: 0.7983 - val_loss: 0.4333 - val_accuracy: 0.7986\n",
      "Epoch 20/200\n",
      "54/54 [==============================] - 0s 5ms/step - loss: 0.4259 - accuracy: 0.8005 - val_loss: 0.4318 - val_accuracy: 0.7993\n",
      "Epoch 21/200\n",
      "54/54 [==============================] - 0s 3ms/step - loss: 0.4244 - accuracy: 0.8020 - val_loss: 0.4303 - val_accuracy: 0.7997\n",
      "Epoch 22/200\n",
      "54/54 [==============================] - 0s 4ms/step - loss: 0.4223 - accuracy: 0.8026 - val_loss: 0.4289 - val_accuracy: 0.8001\n",
      "Epoch 23/200\n",
      "54/54 [==============================] - 0s 6ms/step - loss: 0.4207 - accuracy: 0.8026 - val_loss: 0.4275 - val_accuracy: 0.7997\n",
      "Epoch 24/200\n",
      "54/54 [==============================] - 0s 3ms/step - loss: 0.4189 - accuracy: 0.8037 - val_loss: 0.4261 - val_accuracy: 0.8005\n",
      "Epoch 25/200\n",
      "54/54 [==============================] - 0s 3ms/step - loss: 0.4169 - accuracy: 0.8028 - val_loss: 0.4243 - val_accuracy: 0.8001\n",
      "Epoch 26/200\n",
      "54/54 [==============================] - 0s 3ms/step - loss: 0.4147 - accuracy: 0.8037 - val_loss: 0.4226 - val_accuracy: 0.8016\n",
      "Epoch 27/200\n",
      "54/54 [==============================] - 0s 5ms/step - loss: 0.4121 - accuracy: 0.8056 - val_loss: 0.4208 - val_accuracy: 0.8023\n",
      "Epoch 28/200\n",
      "54/54 [==============================] - 0s 5ms/step - loss: 0.4095 - accuracy: 0.8057 - val_loss: 0.4187 - val_accuracy: 0.8167\n",
      "Epoch 29/200\n",
      "54/54 [==============================] - 0s 5ms/step - loss: 0.4066 - accuracy: 0.8196 - val_loss: 0.4162 - val_accuracy: 0.8190\n",
      "Epoch 30/200\n",
      "54/54 [==============================] - 0s 4ms/step - loss: 0.4032 - accuracy: 0.8224 - val_loss: 0.4133 - val_accuracy: 0.8213\n",
      "Epoch 31/200\n",
      "54/54 [==============================] - 0s 7ms/step - loss: 0.3994 - accuracy: 0.8246 - val_loss: 0.4101 - val_accuracy: 0.8243\n",
      "Epoch 32/200\n",
      "54/54 [==============================] - 0s 5ms/step - loss: 0.3958 - accuracy: 0.8268 - val_loss: 0.4067 - val_accuracy: 0.8258\n",
      "Epoch 33/200\n",
      "54/54 [==============================] - 0s 3ms/step - loss: 0.3920 - accuracy: 0.8283 - val_loss: 0.4038 - val_accuracy: 0.8277\n",
      "Epoch 34/200\n",
      "54/54 [==============================] - 0s 2ms/step - loss: 0.3885 - accuracy: 0.8308 - val_loss: 0.4006 - val_accuracy: 0.8304\n",
      "Epoch 35/200\n",
      "54/54 [==============================] - 0s 2ms/step - loss: 0.3850 - accuracy: 0.8334 - val_loss: 0.3973 - val_accuracy: 0.8326\n",
      "Epoch 36/200\n",
      "54/54 [==============================] - 0s 3ms/step - loss: 0.3816 - accuracy: 0.8347 - val_loss: 0.3942 - val_accuracy: 0.8319\n",
      "Epoch 37/200\n",
      "54/54 [==============================] - 0s 3ms/step - loss: 0.3784 - accuracy: 0.8371 - val_loss: 0.3913 - val_accuracy: 0.8338\n",
      "Epoch 38/200\n",
      "54/54 [==============================] - 0s 4ms/step - loss: 0.3754 - accuracy: 0.8397 - val_loss: 0.3888 - val_accuracy: 0.8345\n",
      "Epoch 39/200\n",
      "54/54 [==============================] - 0s 3ms/step - loss: 0.3727 - accuracy: 0.8408 - val_loss: 0.3864 - val_accuracy: 0.8349\n",
      "Epoch 40/200\n",
      "54/54 [==============================] - 0s 2ms/step - loss: 0.3702 - accuracy: 0.8419 - val_loss: 0.3846 - val_accuracy: 0.8360\n",
      "Epoch 41/200\n",
      "54/54 [==============================] - 0s 2ms/step - loss: 0.3679 - accuracy: 0.8434 - val_loss: 0.3825 - val_accuracy: 0.8364\n",
      "Epoch 42/200\n",
      "54/54 [==============================] - 0s 2ms/step - loss: 0.3660 - accuracy: 0.8433 - val_loss: 0.3805 - val_accuracy: 0.8376\n",
      "Epoch 43/200\n",
      "54/54 [==============================] - 0s 2ms/step - loss: 0.3642 - accuracy: 0.8449 - val_loss: 0.3796 - val_accuracy: 0.8379\n",
      "Epoch 44/200\n",
      "54/54 [==============================] - 0s 2ms/step - loss: 0.3625 - accuracy: 0.8449 - val_loss: 0.3780 - val_accuracy: 0.8383\n",
      "Epoch 45/200\n",
      "54/54 [==============================] - 0s 2ms/step - loss: 0.3612 - accuracy: 0.8461 - val_loss: 0.3770 - val_accuracy: 0.8402\n",
      "Epoch 46/200\n",
      "54/54 [==============================] - 0s 3ms/step - loss: 0.3600 - accuracy: 0.8462 - val_loss: 0.3759 - val_accuracy: 0.8410\n",
      "Epoch 47/200\n",
      "54/54 [==============================] - 0s 4ms/step - loss: 0.3589 - accuracy: 0.8474 - val_loss: 0.3753 - val_accuracy: 0.8417\n",
      "Epoch 48/200\n",
      "54/54 [==============================] - 0s 4ms/step - loss: 0.3581 - accuracy: 0.8490 - val_loss: 0.3740 - val_accuracy: 0.8391\n",
      "Epoch 49/200\n",
      "54/54 [==============================] - 0s 3ms/step - loss: 0.3570 - accuracy: 0.8487 - val_loss: 0.3734 - val_accuracy: 0.8383\n",
      "Epoch 50/200\n",
      "54/54 [==============================] - 0s 3ms/step - loss: 0.3562 - accuracy: 0.8500 - val_loss: 0.3729 - val_accuracy: 0.8406\n",
      "Epoch 51/200\n",
      "54/54 [==============================] - 0s 4ms/step - loss: 0.3551 - accuracy: 0.8481 - val_loss: 0.3724 - val_accuracy: 0.8387\n",
      "Epoch 52/200\n",
      "54/54 [==============================] - 0s 3ms/step - loss: 0.3543 - accuracy: 0.8496 - val_loss: 0.3716 - val_accuracy: 0.8413\n",
      "Epoch 53/200\n",
      "54/54 [==============================] - 0s 3ms/step - loss: 0.3538 - accuracy: 0.8492 - val_loss: 0.3712 - val_accuracy: 0.8432\n",
      "Epoch 54/200\n",
      "54/54 [==============================] - 0s 4ms/step - loss: 0.3528 - accuracy: 0.8515 - val_loss: 0.3707 - val_accuracy: 0.8398\n",
      "Epoch 55/200\n",
      "54/54 [==============================] - 0s 3ms/step - loss: 0.3522 - accuracy: 0.8528 - val_loss: 0.3702 - val_accuracy: 0.8413\n",
      "Epoch 56/200\n",
      "54/54 [==============================] - 0s 3ms/step - loss: 0.3518 - accuracy: 0.8533 - val_loss: 0.3698 - val_accuracy: 0.8410\n",
      "Epoch 57/200\n",
      "54/54 [==============================] - 0s 3ms/step - loss: 0.3511 - accuracy: 0.8543 - val_loss: 0.3693 - val_accuracy: 0.8410\n",
      "Epoch 58/200\n",
      "54/54 [==============================] - 0s 3ms/step - loss: 0.3505 - accuracy: 0.8548 - val_loss: 0.3687 - val_accuracy: 0.8429\n"
     ]
    },
    {
     "name": "stdout",
     "output_type": "stream",
     "text": [
      "Epoch 59/200\n",
      "54/54 [==============================] - 0s 3ms/step - loss: 0.3496 - accuracy: 0.8556 - val_loss: 0.3685 - val_accuracy: 0.8413\n",
      "Epoch 60/200\n",
      "54/54 [==============================] - 0s 3ms/step - loss: 0.3490 - accuracy: 0.8567 - val_loss: 0.3680 - val_accuracy: 0.8417\n",
      "Epoch 61/200\n",
      "54/54 [==============================] - 0s 3ms/step - loss: 0.3486 - accuracy: 0.8558 - val_loss: 0.3677 - val_accuracy: 0.8436\n",
      "Epoch 62/200\n",
      "54/54 [==============================] - 0s 2ms/step - loss: 0.3479 - accuracy: 0.8567 - val_loss: 0.3675 - val_accuracy: 0.8444\n",
      "Epoch 63/200\n",
      "54/54 [==============================] - 0s 3ms/step - loss: 0.3475 - accuracy: 0.8565 - val_loss: 0.3667 - val_accuracy: 0.8459\n",
      "Epoch 64/200\n",
      "54/54 [==============================] - 0s 3ms/step - loss: 0.3469 - accuracy: 0.8578 - val_loss: 0.3664 - val_accuracy: 0.8455\n",
      "Epoch 65/200\n",
      "54/54 [==============================] - 0s 3ms/step - loss: 0.3465 - accuracy: 0.8587 - val_loss: 0.3664 - val_accuracy: 0.8455\n",
      "Epoch 66/200\n",
      "54/54 [==============================] - 0s 3ms/step - loss: 0.3459 - accuracy: 0.8586 - val_loss: 0.3662 - val_accuracy: 0.8463\n",
      "Epoch 67/200\n",
      "54/54 [==============================] - 0s 3ms/step - loss: 0.3458 - accuracy: 0.8599 - val_loss: 0.3660 - val_accuracy: 0.8482\n",
      "Epoch 68/200\n",
      "54/54 [==============================] - 0s 3ms/step - loss: 0.3450 - accuracy: 0.8604 - val_loss: 0.3657 - val_accuracy: 0.8478\n",
      "Epoch 69/200\n",
      "54/54 [==============================] - 0s 3ms/step - loss: 0.3446 - accuracy: 0.8606 - val_loss: 0.3659 - val_accuracy: 0.8485\n",
      "Epoch 70/200\n",
      "54/54 [==============================] - 0s 3ms/step - loss: 0.3440 - accuracy: 0.8610 - val_loss: 0.3650 - val_accuracy: 0.8516\n",
      "Epoch 71/200\n",
      "54/54 [==============================] - 0s 3ms/step - loss: 0.3436 - accuracy: 0.8621 - val_loss: 0.3648 - val_accuracy: 0.8523\n",
      "Epoch 72/200\n",
      "54/54 [==============================] - 0s 3ms/step - loss: 0.3432 - accuracy: 0.8625 - val_loss: 0.3649 - val_accuracy: 0.8504\n",
      "Epoch 73/200\n",
      "54/54 [==============================] - 0s 4ms/step - loss: 0.3429 - accuracy: 0.8627 - val_loss: 0.3649 - val_accuracy: 0.8501\n",
      "Epoch 74/200\n",
      "54/54 [==============================] - 0s 7ms/step - loss: 0.3423 - accuracy: 0.8623 - val_loss: 0.3648 - val_accuracy: 0.8512\n",
      "Epoch 75/200\n",
      "54/54 [==============================] - 0s 4ms/step - loss: 0.3422 - accuracy: 0.8614 - val_loss: 0.3645 - val_accuracy: 0.8516\n",
      "Epoch 76/200\n",
      "54/54 [==============================] - 0s 4ms/step - loss: 0.3420 - accuracy: 0.8628 - val_loss: 0.3643 - val_accuracy: 0.8523\n",
      "Epoch 77/200\n",
      "54/54 [==============================] - 0s 6ms/step - loss: 0.3419 - accuracy: 0.8621 - val_loss: 0.3645 - val_accuracy: 0.8508\n",
      "Epoch 78/200\n",
      "54/54 [==============================] - 0s 5ms/step - loss: 0.3413 - accuracy: 0.8615 - val_loss: 0.3640 - val_accuracy: 0.8512\n",
      "Epoch 79/200\n",
      "54/54 [==============================] - 0s 5ms/step - loss: 0.3411 - accuracy: 0.8628 - val_loss: 0.3641 - val_accuracy: 0.8512\n",
      "Epoch 80/200\n",
      "54/54 [==============================] - 0s 4ms/step - loss: 0.3408 - accuracy: 0.8625 - val_loss: 0.3641 - val_accuracy: 0.8512\n",
      "Epoch 81/200\n",
      "54/54 [==============================] - 0s 3ms/step - loss: 0.3405 - accuracy: 0.8628 - val_loss: 0.3643 - val_accuracy: 0.8504\n",
      "Epoch 82/200\n",
      "54/54 [==============================] - 0s 4ms/step - loss: 0.3402 - accuracy: 0.8619 - val_loss: 0.3639 - val_accuracy: 0.8512\n",
      "Epoch 83/200\n",
      "54/54 [==============================] - 0s 3ms/step - loss: 0.3401 - accuracy: 0.8632 - val_loss: 0.3637 - val_accuracy: 0.8523\n",
      "Epoch 84/200\n",
      "54/54 [==============================] - 0s 4ms/step - loss: 0.3400 - accuracy: 0.8627 - val_loss: 0.3639 - val_accuracy: 0.8512\n",
      "Epoch 85/200\n",
      "54/54 [==============================] - 0s 3ms/step - loss: 0.3395 - accuracy: 0.8625 - val_loss: 0.3636 - val_accuracy: 0.8512\n",
      "Epoch 86/200\n",
      "54/54 [==============================] - 0s 3ms/step - loss: 0.3394 - accuracy: 0.8623 - val_loss: 0.3637 - val_accuracy: 0.8504\n",
      "Epoch 87/200\n",
      "54/54 [==============================] - 0s 3ms/step - loss: 0.3392 - accuracy: 0.8632 - val_loss: 0.3634 - val_accuracy: 0.8519\n",
      "Epoch 88/200\n",
      "54/54 [==============================] - 0s 6ms/step - loss: 0.3390 - accuracy: 0.8636 - val_loss: 0.3637 - val_accuracy: 0.8523\n",
      "Epoch 89/200\n",
      "54/54 [==============================] - 0s 5ms/step - loss: 0.3388 - accuracy: 0.8630 - val_loss: 0.3641 - val_accuracy: 0.8519\n",
      "Epoch 90/200\n",
      "54/54 [==============================] - 0s 5ms/step - loss: 0.3388 - accuracy: 0.8627 - val_loss: 0.3631 - val_accuracy: 0.8523\n",
      "Epoch 91/200\n",
      "54/54 [==============================] - 0s 3ms/step - loss: 0.3386 - accuracy: 0.8636 - val_loss: 0.3633 - val_accuracy: 0.8531\n",
      "Epoch 92/200\n",
      "54/54 [==============================] - 0s 4ms/step - loss: 0.3384 - accuracy: 0.8638 - val_loss: 0.3631 - val_accuracy: 0.8527\n",
      "Epoch 93/200\n",
      "54/54 [==============================] - 0s 3ms/step - loss: 0.3383 - accuracy: 0.8634 - val_loss: 0.3632 - val_accuracy: 0.8519\n",
      "Epoch 94/200\n",
      "54/54 [==============================] - 0s 3ms/step - loss: 0.3383 - accuracy: 0.8630 - val_loss: 0.3633 - val_accuracy: 0.8516\n",
      "Epoch 95/200\n",
      "54/54 [==============================] - 0s 3ms/step - loss: 0.3382 - accuracy: 0.8643 - val_loss: 0.3632 - val_accuracy: 0.8519\n",
      "Epoch 96/200\n",
      "54/54 [==============================] - 0s 3ms/step - loss: 0.3380 - accuracy: 0.8636 - val_loss: 0.3635 - val_accuracy: 0.8508\n",
      "Epoch 97/200\n",
      "54/54 [==============================] - 0s 3ms/step - loss: 0.3379 - accuracy: 0.8640 - val_loss: 0.3629 - val_accuracy: 0.8535\n",
      "Epoch 98/200\n",
      "54/54 [==============================] - 0s 3ms/step - loss: 0.3378 - accuracy: 0.8643 - val_loss: 0.3627 - val_accuracy: 0.8527\n",
      "Epoch 99/200\n",
      "54/54 [==============================] - 0s 4ms/step - loss: 0.3375 - accuracy: 0.8634 - val_loss: 0.3627 - val_accuracy: 0.8535\n",
      "Epoch 100/200\n",
      "54/54 [==============================] - 0s 3ms/step - loss: 0.3372 - accuracy: 0.8634 - val_loss: 0.3631 - val_accuracy: 0.8527\n",
      "Epoch 101/200\n",
      "54/54 [==============================] - 0s 4ms/step - loss: 0.3374 - accuracy: 0.8643 - val_loss: 0.3628 - val_accuracy: 0.8523\n",
      "Epoch 102/200\n",
      "54/54 [==============================] - 0s 3ms/step - loss: 0.3369 - accuracy: 0.8638 - val_loss: 0.3627 - val_accuracy: 0.8535\n",
      "Epoch 103/200\n",
      "54/54 [==============================] - 0s 4ms/step - loss: 0.3371 - accuracy: 0.8634 - val_loss: 0.3626 - val_accuracy: 0.8531\n",
      "Epoch 104/200\n",
      "54/54 [==============================] - 0s 3ms/step - loss: 0.3368 - accuracy: 0.8630 - val_loss: 0.3625 - val_accuracy: 0.8523\n",
      "Epoch 105/200\n",
      "54/54 [==============================] - 0s 4ms/step - loss: 0.3367 - accuracy: 0.8630 - val_loss: 0.3626 - val_accuracy: 0.8535\n",
      "Epoch 106/200\n",
      "54/54 [==============================] - 0s 3ms/step - loss: 0.3366 - accuracy: 0.8634 - val_loss: 0.3625 - val_accuracy: 0.8527\n",
      "Epoch 107/200\n",
      "54/54 [==============================] - 0s 3ms/step - loss: 0.3364 - accuracy: 0.8640 - val_loss: 0.3625 - val_accuracy: 0.8535\n",
      "Epoch 108/200\n",
      "54/54 [==============================] - 0s 3ms/step - loss: 0.3367 - accuracy: 0.8642 - val_loss: 0.3622 - val_accuracy: 0.8527\n",
      "Epoch 109/200\n",
      "54/54 [==============================] - 0s 3ms/step - loss: 0.3365 - accuracy: 0.8623 - val_loss: 0.3625 - val_accuracy: 0.8527\n",
      "Epoch 110/200\n",
      "54/54 [==============================] - 0s 4ms/step - loss: 0.3363 - accuracy: 0.8640 - val_loss: 0.3624 - val_accuracy: 0.8531\n",
      "Epoch 111/200\n",
      "54/54 [==============================] - 0s 3ms/step - loss: 0.3360 - accuracy: 0.8636 - val_loss: 0.3624 - val_accuracy: 0.8542\n",
      "Epoch 112/200\n",
      "54/54 [==============================] - 0s 4ms/step - loss: 0.3360 - accuracy: 0.8627 - val_loss: 0.3623 - val_accuracy: 0.8538\n",
      "Epoch 113/200\n",
      "54/54 [==============================] - 0s 3ms/step - loss: 0.3360 - accuracy: 0.8634 - val_loss: 0.3622 - val_accuracy: 0.8542\n",
      "Epoch 114/200\n",
      "54/54 [==============================] - 0s 4ms/step - loss: 0.3358 - accuracy: 0.8638 - val_loss: 0.3621 - val_accuracy: 0.8542\n",
      "Epoch 115/200\n",
      "54/54 [==============================] - 0s 3ms/step - loss: 0.3360 - accuracy: 0.8632 - val_loss: 0.3621 - val_accuracy: 0.8550\n",
      "Epoch 116/200\n"
     ]
    },
    {
     "name": "stdout",
     "output_type": "stream",
     "text": [
      "54/54 [==============================] - 0s 3ms/step - loss: 0.3356 - accuracy: 0.8642 - val_loss: 0.3620 - val_accuracy: 0.8550\n",
      "Epoch 117/200\n",
      "54/54 [==============================] - 0s 3ms/step - loss: 0.3354 - accuracy: 0.8636 - val_loss: 0.3620 - val_accuracy: 0.8542\n",
      "Epoch 118/200\n",
      "54/54 [==============================] - 0s 3ms/step - loss: 0.3352 - accuracy: 0.8638 - val_loss: 0.3615 - val_accuracy: 0.8538\n",
      "Epoch 119/200\n",
      "54/54 [==============================] - 0s 3ms/step - loss: 0.3354 - accuracy: 0.8638 - val_loss: 0.3622 - val_accuracy: 0.8554\n",
      "Epoch 120/200\n",
      "54/54 [==============================] - 0s 3ms/step - loss: 0.3352 - accuracy: 0.8645 - val_loss: 0.3614 - val_accuracy: 0.8550\n",
      "Epoch 121/200\n",
      "54/54 [==============================] - 0s 4ms/step - loss: 0.3349 - accuracy: 0.8621 - val_loss: 0.3620 - val_accuracy: 0.8550\n",
      "Epoch 122/200\n",
      "54/54 [==============================] - 0s 3ms/step - loss: 0.3347 - accuracy: 0.8627 - val_loss: 0.3620 - val_accuracy: 0.8546\n",
      "Epoch 123/200\n",
      "54/54 [==============================] - 0s 3ms/step - loss: 0.3348 - accuracy: 0.8630 - val_loss: 0.3618 - val_accuracy: 0.8550\n",
      "Epoch 124/200\n",
      "54/54 [==============================] - 0s 4ms/step - loss: 0.3348 - accuracy: 0.8636 - val_loss: 0.3620 - val_accuracy: 0.8554\n",
      "Epoch 125/200\n",
      "54/54 [==============================] - 0s 3ms/step - loss: 0.3348 - accuracy: 0.8643 - val_loss: 0.3620 - val_accuracy: 0.8573\n",
      "Epoch 126/200\n",
      "54/54 [==============================] - 0s 3ms/step - loss: 0.3344 - accuracy: 0.8636 - val_loss: 0.3616 - val_accuracy: 0.8557\n",
      "Epoch 127/200\n",
      "54/54 [==============================] - 0s 3ms/step - loss: 0.3347 - accuracy: 0.8638 - val_loss: 0.3616 - val_accuracy: 0.8546\n",
      "Epoch 128/200\n",
      "54/54 [==============================] - 0s 3ms/step - loss: 0.3344 - accuracy: 0.8643 - val_loss: 0.3616 - val_accuracy: 0.8542\n",
      "Epoch 129/200\n",
      "54/54 [==============================] - 0s 3ms/step - loss: 0.3343 - accuracy: 0.8642 - val_loss: 0.3615 - val_accuracy: 0.8546\n",
      "Epoch 130/200\n",
      "54/54 [==============================] - 0s 4ms/step - loss: 0.3343 - accuracy: 0.8638 - val_loss: 0.3615 - val_accuracy: 0.8554\n",
      "Epoch 131/200\n",
      "54/54 [==============================] - 0s 3ms/step - loss: 0.3344 - accuracy: 0.8634 - val_loss: 0.3616 - val_accuracy: 0.8546\n",
      "Epoch 132/200\n",
      "54/54 [==============================] - 0s 4ms/step - loss: 0.3342 - accuracy: 0.8655 - val_loss: 0.3615 - val_accuracy: 0.8550\n",
      "Epoch 133/200\n",
      "54/54 [==============================] - 0s 4ms/step - loss: 0.3342 - accuracy: 0.8655 - val_loss: 0.3618 - val_accuracy: 0.8554\n",
      "Epoch 134/200\n",
      "54/54 [==============================] - 0s 3ms/step - loss: 0.3342 - accuracy: 0.8649 - val_loss: 0.3617 - val_accuracy: 0.8561\n",
      "Epoch 135/200\n",
      "54/54 [==============================] - 0s 6ms/step - loss: 0.3341 - accuracy: 0.8649 - val_loss: 0.3616 - val_accuracy: 0.8550\n",
      "Epoch 136/200\n",
      "54/54 [==============================] - 0s 4ms/step - loss: 0.3338 - accuracy: 0.8642 - val_loss: 0.3614 - val_accuracy: 0.8546\n",
      "Epoch 137/200\n",
      "54/54 [==============================] - 0s 3ms/step - loss: 0.3339 - accuracy: 0.8655 - val_loss: 0.3616 - val_accuracy: 0.8557\n",
      "Epoch 138/200\n",
      "54/54 [==============================] - 0s 4ms/step - loss: 0.3341 - accuracy: 0.8640 - val_loss: 0.3617 - val_accuracy: 0.8550\n",
      "Epoch 139/200\n",
      "54/54 [==============================] - 0s 4ms/step - loss: 0.3338 - accuracy: 0.8653 - val_loss: 0.3616 - val_accuracy: 0.8554\n",
      "Epoch 140/200\n",
      "54/54 [==============================] - 0s 4ms/step - loss: 0.3336 - accuracy: 0.8642 - val_loss: 0.3614 - val_accuracy: 0.8561\n",
      "Epoch 141/200\n",
      "54/54 [==============================] - 0s 2ms/step - loss: 0.3340 - accuracy: 0.8645 - val_loss: 0.3611 - val_accuracy: 0.8557\n",
      "Epoch 142/200\n",
      "54/54 [==============================] - 0s 3ms/step - loss: 0.3338 - accuracy: 0.8649 - val_loss: 0.3610 - val_accuracy: 0.8561\n",
      "Epoch 143/200\n",
      "54/54 [==============================] - 0s 3ms/step - loss: 0.3337 - accuracy: 0.8647 - val_loss: 0.3612 - val_accuracy: 0.8550\n",
      "Epoch 144/200\n",
      "54/54 [==============================] - 0s 3ms/step - loss: 0.3336 - accuracy: 0.8647 - val_loss: 0.3610 - val_accuracy: 0.8557\n",
      "Epoch 145/200\n",
      "54/54 [==============================] - 0s 3ms/step - loss: 0.3336 - accuracy: 0.8643 - val_loss: 0.3611 - val_accuracy: 0.8557\n",
      "Epoch 146/200\n",
      "54/54 [==============================] - 0s 3ms/step - loss: 0.3334 - accuracy: 0.8656 - val_loss: 0.3610 - val_accuracy: 0.8561\n",
      "Epoch 147/200\n",
      "54/54 [==============================] - 0s 2ms/step - loss: 0.3336 - accuracy: 0.8655 - val_loss: 0.3609 - val_accuracy: 0.8557\n",
      "Epoch 148/200\n",
      "54/54 [==============================] - 0s 3ms/step - loss: 0.3335 - accuracy: 0.8649 - val_loss: 0.3617 - val_accuracy: 0.8561\n",
      "Epoch 149/200\n",
      "54/54 [==============================] - 0s 3ms/step - loss: 0.3335 - accuracy: 0.8653 - val_loss: 0.3611 - val_accuracy: 0.8561\n",
      "Epoch 150/200\n",
      "54/54 [==============================] - 0s 3ms/step - loss: 0.3333 - accuracy: 0.8656 - val_loss: 0.3613 - val_accuracy: 0.8554\n",
      "Epoch 151/200\n",
      "54/54 [==============================] - 0s 3ms/step - loss: 0.3333 - accuracy: 0.8658 - val_loss: 0.3614 - val_accuracy: 0.8561\n",
      "Epoch 152/200\n",
      "54/54 [==============================] - 0s 3ms/step - loss: 0.3332 - accuracy: 0.8653 - val_loss: 0.3613 - val_accuracy: 0.8561\n",
      "Epoch 153/200\n",
      "54/54 [==============================] - 0s 3ms/step - loss: 0.3333 - accuracy: 0.8651 - val_loss: 0.3612 - val_accuracy: 0.8554\n",
      "Epoch 154/200\n",
      "54/54 [==============================] - 0s 4ms/step - loss: 0.3331 - accuracy: 0.8645 - val_loss: 0.3613 - val_accuracy: 0.8554\n",
      "Epoch 155/200\n",
      "54/54 [==============================] - 0s 3ms/step - loss: 0.3331 - accuracy: 0.8645 - val_loss: 0.3611 - val_accuracy: 0.8550\n",
      "Epoch 156/200\n",
      "54/54 [==============================] - 0s 3ms/step - loss: 0.3329 - accuracy: 0.8651 - val_loss: 0.3611 - val_accuracy: 0.8557\n",
      "Epoch 157/200\n",
      "54/54 [==============================] - 0s 3ms/step - loss: 0.3330 - accuracy: 0.8649 - val_loss: 0.3609 - val_accuracy: 0.8557\n",
      "Epoch 158/200\n",
      "54/54 [==============================] - 0s 3ms/step - loss: 0.3328 - accuracy: 0.8651 - val_loss: 0.3607 - val_accuracy: 0.8546\n",
      "Epoch 159/200\n",
      "54/54 [==============================] - 0s 3ms/step - loss: 0.3328 - accuracy: 0.8656 - val_loss: 0.3609 - val_accuracy: 0.8557\n",
      "Epoch 160/200\n",
      "54/54 [==============================] - 0s 3ms/step - loss: 0.3327 - accuracy: 0.8655 - val_loss: 0.3609 - val_accuracy: 0.8546\n",
      "Epoch 161/200\n",
      "54/54 [==============================] - 0s 3ms/step - loss: 0.3330 - accuracy: 0.8647 - val_loss: 0.3614 - val_accuracy: 0.8557\n",
      "Epoch 162/200\n",
      "54/54 [==============================] - 0s 3ms/step - loss: 0.3328 - accuracy: 0.8656 - val_loss: 0.3607 - val_accuracy: 0.8554\n",
      "Epoch 163/200\n",
      "54/54 [==============================] - 0s 3ms/step - loss: 0.3325 - accuracy: 0.8653 - val_loss: 0.3605 - val_accuracy: 0.8573\n",
      "Epoch 164/200\n",
      "54/54 [==============================] - 0s 3ms/step - loss: 0.3329 - accuracy: 0.8651 - val_loss: 0.3610 - val_accuracy: 0.8561\n",
      "Epoch 165/200\n",
      "54/54 [==============================] - 0s 3ms/step - loss: 0.3327 - accuracy: 0.8655 - val_loss: 0.3605 - val_accuracy: 0.8561\n",
      "Epoch 166/200\n",
      "54/54 [==============================] - 0s 3ms/step - loss: 0.3326 - accuracy: 0.8638 - val_loss: 0.3607 - val_accuracy: 0.8561\n",
      "Epoch 167/200\n",
      "54/54 [==============================] - 0s 3ms/step - loss: 0.3324 - accuracy: 0.8655 - val_loss: 0.3609 - val_accuracy: 0.8565\n",
      "Epoch 168/200\n",
      "54/54 [==============================] - 0s 3ms/step - loss: 0.3324 - accuracy: 0.8645 - val_loss: 0.3607 - val_accuracy: 0.8550\n",
      "Epoch 169/200\n",
      "54/54 [==============================] - 0s 3ms/step - loss: 0.3322 - accuracy: 0.8658 - val_loss: 0.3605 - val_accuracy: 0.8561\n",
      "Epoch 170/200\n",
      "54/54 [==============================] - 0s 3ms/step - loss: 0.3325 - accuracy: 0.8649 - val_loss: 0.3606 - val_accuracy: 0.8554\n",
      "Epoch 171/200\n",
      "54/54 [==============================] - 0s 3ms/step - loss: 0.3323 - accuracy: 0.8656 - val_loss: 0.3611 - val_accuracy: 0.8565\n",
      "Epoch 172/200\n",
      "54/54 [==============================] - 0s 3ms/step - loss: 0.3324 - accuracy: 0.8651 - val_loss: 0.3604 - val_accuracy: 0.8557\n",
      "Epoch 173/200\n"
     ]
    },
    {
     "name": "stdout",
     "output_type": "stream",
     "text": [
      "54/54 [==============================] - 0s 3ms/step - loss: 0.3323 - accuracy: 0.8658 - val_loss: 0.3608 - val_accuracy: 0.8573\n",
      "Epoch 174/200\n",
      "54/54 [==============================] - 0s 2ms/step - loss: 0.3321 - accuracy: 0.8643 - val_loss: 0.3605 - val_accuracy: 0.8561\n",
      "Epoch 175/200\n",
      "54/54 [==============================] - 0s 3ms/step - loss: 0.3322 - accuracy: 0.8655 - val_loss: 0.3607 - val_accuracy: 0.8565\n",
      "Epoch 176/200\n",
      "54/54 [==============================] - 0s 3ms/step - loss: 0.3322 - accuracy: 0.8645 - val_loss: 0.3606 - val_accuracy: 0.8554\n",
      "Epoch 177/200\n",
      "54/54 [==============================] - 0s 3ms/step - loss: 0.3319 - accuracy: 0.8655 - val_loss: 0.3608 - val_accuracy: 0.8573\n",
      "Epoch 178/200\n",
      "54/54 [==============================] - 0s 3ms/step - loss: 0.3320 - accuracy: 0.8655 - val_loss: 0.3609 - val_accuracy: 0.8569\n",
      "Epoch 179/200\n",
      "54/54 [==============================] - 0s 3ms/step - loss: 0.3323 - accuracy: 0.8655 - val_loss: 0.3611 - val_accuracy: 0.8569\n",
      "Epoch 180/200\n",
      "54/54 [==============================] - 0s 3ms/step - loss: 0.3321 - accuracy: 0.8640 - val_loss: 0.3606 - val_accuracy: 0.8561\n",
      "Epoch 181/200\n",
      "54/54 [==============================] - 0s 3ms/step - loss: 0.3321 - accuracy: 0.8649 - val_loss: 0.3603 - val_accuracy: 0.8557\n",
      "Epoch 182/200\n",
      "54/54 [==============================] - 0s 3ms/step - loss: 0.3320 - accuracy: 0.8656 - val_loss: 0.3609 - val_accuracy: 0.8557\n",
      "Epoch 183/200\n",
      "54/54 [==============================] - 0s 3ms/step - loss: 0.3317 - accuracy: 0.8653 - val_loss: 0.3609 - val_accuracy: 0.8561\n",
      "Epoch 184/200\n",
      "54/54 [==============================] - 0s 3ms/step - loss: 0.3318 - accuracy: 0.8647 - val_loss: 0.3608 - val_accuracy: 0.8546\n",
      "Epoch 185/200\n",
      "54/54 [==============================] - 0s 3ms/step - loss: 0.3318 - accuracy: 0.8647 - val_loss: 0.3612 - val_accuracy: 0.8557\n",
      "Epoch 186/200\n",
      "54/54 [==============================] - 0s 3ms/step - loss: 0.3317 - accuracy: 0.8653 - val_loss: 0.3611 - val_accuracy: 0.8557\n",
      "Epoch 187/200\n",
      "54/54 [==============================] - 0s 3ms/step - loss: 0.3318 - accuracy: 0.8640 - val_loss: 0.3609 - val_accuracy: 0.8554\n",
      "Epoch 188/200\n",
      "54/54 [==============================] - 0s 3ms/step - loss: 0.3316 - accuracy: 0.8651 - val_loss: 0.3612 - val_accuracy: 0.8546\n",
      "Epoch 189/200\n",
      "54/54 [==============================] - 0s 3ms/step - loss: 0.3315 - accuracy: 0.8643 - val_loss: 0.3610 - val_accuracy: 0.8554\n",
      "Epoch 190/200\n",
      "54/54 [==============================] - 0s 3ms/step - loss: 0.3317 - accuracy: 0.8651 - val_loss: 0.3608 - val_accuracy: 0.8561\n",
      "Epoch 191/200\n",
      "54/54 [==============================] - 0s 3ms/step - loss: 0.3317 - accuracy: 0.8653 - val_loss: 0.3605 - val_accuracy: 0.8546\n",
      "Epoch 192/200\n",
      "54/54 [==============================] - 0s 3ms/step - loss: 0.3314 - accuracy: 0.8640 - val_loss: 0.3609 - val_accuracy: 0.8546\n",
      "Epoch 193/200\n",
      "54/54 [==============================] - 0s 3ms/step - loss: 0.3314 - accuracy: 0.8649 - val_loss: 0.3605 - val_accuracy: 0.8550\n",
      "Epoch 194/200\n",
      "54/54 [==============================] - 0s 4ms/step - loss: 0.3314 - accuracy: 0.8656 - val_loss: 0.3607 - val_accuracy: 0.8554\n",
      "Epoch 195/200\n",
      "54/54 [==============================] - 0s 3ms/step - loss: 0.3313 - accuracy: 0.8647 - val_loss: 0.3606 - val_accuracy: 0.8550\n",
      "Epoch 196/200\n",
      "54/54 [==============================] - 0s 3ms/step - loss: 0.3313 - accuracy: 0.8647 - val_loss: 0.3610 - val_accuracy: 0.8531\n",
      "Epoch 197/200\n",
      "54/54 [==============================] - 0s 3ms/step - loss: 0.3311 - accuracy: 0.8642 - val_loss: 0.3608 - val_accuracy: 0.8538\n",
      "Epoch 198/200\n",
      "54/54 [==============================] - 0s 3ms/step - loss: 0.3313 - accuracy: 0.8647 - val_loss: 0.3607 - val_accuracy: 0.8546\n",
      "Epoch 199/200\n",
      "54/54 [==============================] - 0s 3ms/step - loss: 0.3310 - accuracy: 0.8649 - val_loss: 0.3607 - val_accuracy: 0.8538\n",
      "Epoch 200/200\n",
      "54/54 [==============================] - 0s 3ms/step - loss: 0.3310 - accuracy: 0.8643 - val_loss: 0.3610 - val_accuracy: 0.8535\n"
     ]
    }
   ],
   "source": [
    "# Fitting the ANN to the Training set\n",
    "model_history=classifier.fit(X_train, Y_train,validation_split=0.33, batch_size = 100, epochs = 200)\n"
   ]
  },
  {
   "cell_type": "code",
   "execution_count": 25,
   "id": "demanding-perspective",
   "metadata": {},
   "outputs": [
    {
     "name": "stdout",
     "output_type": "stream",
     "text": [
      "dict_keys(['loss', 'accuracy', 'val_loss', 'val_accuracy'])\n"
     ]
    }
   ],
   "source": [
    "\n",
    "# list all data in history\n",
    "\n",
    "print(model_history.history.keys())"
   ]
  },
  {
   "cell_type": "code",
   "execution_count": 26,
   "id": "weekly-metro",
   "metadata": {},
   "outputs": [
    {
     "data": {
      "image/png": "[encoded data removed]",
      "text/plain": [
       "<Figure size 432x288 with 1 Axes>"
      ]
     },
     "metadata": {
      "needs_background": "light"
     },
     "output_type": "display_data"
    }
   ],
   "source": [
    "# summarize history for accuracy\n",
    "plt.plot(model_history.history['accuracy'])\n",
    "plt.plot(model_history.history['val_accuracy'])\n",
    "plt.title('model accuracy')\n",
    "plt.ylabel('accuracy')\n",
    "plt.xlabel('epoch')\n",
    "plt.legend(['train', 'test'], loc='upper left')\n",
    "plt.show()"
   ]
  },
  {
   "cell_type": "code",
   "execution_count": 27,
   "id": "automatic-integrity",
   "metadata": {},
   "outputs": [
    {
     "data": {
      "image/png": "[encoded data removed]",
      "text/plain": [
       "<Figure size 432x288 with 1 Axes>"
      ]
     },
     "metadata": {
      "needs_background": "light"
     },
     "output_type": "display_data"
    }
   ],
   "source": [
    "\n",
    "# summarize history for loss\n",
    "plt.plot(model_history.history['loss'])\n",
    "plt.plot(model_history.history['val_loss'])\n",
    "plt.title('model loss')\n",
    "plt.ylabel('loss')\n",
    "plt.xlabel('epoch')\n",
    "plt.legend(['train', 'test'], loc='upper left')\n",
    "plt.show()"
   ]
  },
  {
   "cell_type": "code",
   "execution_count": 29,
   "id": "terminal-punishment",
   "metadata": {},
   "outputs": [],
   "source": [
    "\n",
    "# Part 3 - Making the predictions and evaluating the model\n",
    "\n",
    "# Predicting the Test set results\n",
    "Y_pred = classifier.predict(X_test)\n",
    "Y_pred = (Y_pred > 0.5)"
   ]
  },
  {
   "cell_type": "code",
   "execution_count": 30,
   "id": "anticipated-precipitation",
   "metadata": {},
   "outputs": [],
   "source": [
    "# Making the Confusion Matrix\n",
    "from sklearn.metrics import confusion_matrix\n",
    "cm = confusion_matrix(Y_test, Y_pred)"
   ]
  },
  {
   "cell_type": "code",
   "execution_count": 31,
   "id": "canadian-defendant",
   "metadata": {},
   "outputs": [
    {
     "data": {
      "text/plain": [
       "array([[1515,   80],\n",
       "       [ 198,  207]])"
      ]
     },
     "execution_count": 31,
     "metadata": {},
     "output_type": "execute_result"
    }
   ],
   "source": [
    "cm"
   ]
  },
  {
   "cell_type": "code",
   "execution_count": 32,
   "id": "native-officer",
   "metadata": {},
   "outputs": [],
   "source": [
    "# Calculate the Accuracy\n",
    "from sklearn.metrics import accuracy_score\n",
    "score=accuracy_score(Y_pred,Y_test)"
   ]
  },
  {
   "cell_type": "code",
   "execution_count": 33,
   "id": "atomic-mission",
   "metadata": {},
   "outputs": [
    {
     "data": {
      "text/plain": [
       "0.861"
      ]
     },
     "execution_count": 33,
     "metadata": {},
     "output_type": "execute_result"
    }
   ],
   "source": [
    "score\n"
   ]
  }
 ],
 "metadata": {
  "kernelspec": {
   "display_name": "Python 3",
   "language": "python",
   "name": "python3"
  },
  "language_info": {
   "codemirror_mode": {
    "name": "ipython",
    "version": 3
   },
   "file_extension": ".py",
   "mimetype": "text/x-python",
   "name": "python",
   "nbconvert_exporter": "python",
   "pygments_lexer": "ipython3",
   "version": "3.8.10"
  }
 },
 "nbformat": 4,
 "nbformat_minor": 5
}
