{
 "cells": [
  {
   "cell_type": "code",
   "execution_count": 1,
   "id": "rising-pattern",
   "metadata": {},
   "outputs": [],
   "source": [
    "# Importing Libraries\n",
    "import numpy as np\n",
    "import matplotlib.pyplot as plt\n",
    "import pandas as pd\n"
   ]
  },
  {
   "cell_type": "code",
   "execution_count": 2,
   "id": "thirty-upset",
   "metadata": {},
   "outputs": [],
   "source": [
    "# IMporting DATASET\n",
    "\n",
    "dataset= pd.read_csv('Churn_Modelling.csv')"
   ]
  },
  {
   "cell_type": "code",
   "execution_count": 3,
   "id": "invalid-redhead",
   "metadata": {},
   "outputs": [
    {
     "data": {
      "text/html": [
       "<div>\n",
       "<style scoped>\n",
       "    .dataframe tbody tr th:only-of-type {\n",
       "        vertical-align: middle;\n",
       "    }\n",
       "\n",
       "    .dataframe tbody tr th {\n",
       "        vertical-align: top;\n",
       "    }\n",
       "\n",
       "    .dataframe thead th {\n",
       "        text-align: right;\n",
       "    }\n",
       "</style>\n",
       "<table border=\"1\" class=\"dataframe\">\n",
       "  <thead>\n",
       "    <tr style=\"text-align: right;\">\n",
       "      <th></th>\n",
       "      <th>RowNumber</th>\n",
       "      <th>CustomerId</th>\n",
       "      <th>Surname</th>\n",
       "      <th>CreditScore</th>\n",
       "      <th>Geography</th>\n",
       "      <th>Gender</th>\n",
       "      <th>Age</th>\n",
       "      <th>Tenure</th>\n",
       "      <th>Balance</th>\n",
       "      <th>NumOfProducts</th>\n",
       "      <th>HasCrCard</th>\n",
       "      <th>IsActiveMember</th>\n",
       "      <th>EstimatedSalary</th>\n",
       "      <th>Exited</th>\n",
       "    </tr>\n",
       "  </thead>\n",
       "  <tbody>\n",
       "    <tr>\n",
       "      <th>0</th>\n",
       "      <td>1</td>\n",
       "      <td>15634602</td>\n",
       "      <td>Hargrave</td>\n",
       "      <td>619</td>\n",
       "      <td>France</td>\n",
       "      <td>Female</td>\n",
       "      <td>42</td>\n",
       "      <td>2</td>\n",
       "      <td>0.00</td>\n",
       "      <td>1</td>\n",
       "      <td>1</td>\n",
       "      <td>1</td>\n",
       "      <td>101348.88</td>\n",
       "      <td>1</td>\n",
       "    </tr>\n",
       "    <tr>\n",
       "      <th>1</th>\n",
       "      <td>2</td>\n",
       "      <td>15647311</td>\n",
       "      <td>Hill</td>\n",
       "      <td>608</td>\n",
       "      <td>Spain</td>\n",
       "      <td>Female</td>\n",
       "      <td>41</td>\n",
       "      <td>1</td>\n",
       "      <td>83807.86</td>\n",
       "      <td>1</td>\n",
       "      <td>0</td>\n",
       "      <td>1</td>\n",
       "      <td>112542.58</td>\n",
       "      <td>0</td>\n",
       "    </tr>\n",
       "    <tr>\n",
       "      <th>2</th>\n",
       "      <td>3</td>\n",
       "      <td>15619304</td>\n",
       "      <td>Onio</td>\n",
       "      <td>502</td>\n",
       "      <td>France</td>\n",
       "      <td>Female</td>\n",
       "      <td>42</td>\n",
       "      <td>8</td>\n",
       "      <td>159660.80</td>\n",
       "      <td>3</td>\n",
       "      <td>1</td>\n",
       "      <td>0</td>\n",
       "      <td>113931.57</td>\n",
       "      <td>1</td>\n",
       "    </tr>\n",
       "    <tr>\n",
       "      <th>3</th>\n",
       "      <td>4</td>\n",
       "      <td>15701354</td>\n",
       "      <td>Boni</td>\n",
       "      <td>699</td>\n",
       "      <td>France</td>\n",
       "      <td>Female</td>\n",
       "      <td>39</td>\n",
       "      <td>1</td>\n",
       "      <td>0.00</td>\n",
       "      <td>2</td>\n",
       "      <td>0</td>\n",
       "      <td>0</td>\n",
       "      <td>93826.63</td>\n",
       "      <td>0</td>\n",
       "    </tr>\n",
       "    <tr>\n",
       "      <th>4</th>\n",
       "      <td>5</td>\n",
       "      <td>15737888</td>\n",
       "      <td>Mitchell</td>\n",
       "      <td>850</td>\n",
       "      <td>Spain</td>\n",
       "      <td>Female</td>\n",
       "      <td>43</td>\n",
       "      <td>2</td>\n",
       "      <td>125510.82</td>\n",
       "      <td>1</td>\n",
       "      <td>1</td>\n",
       "      <td>1</td>\n",
       "      <td>79084.10</td>\n",
       "      <td>0</td>\n",
       "    </tr>\n",
       "    <tr>\n",
       "      <th>...</th>\n",
       "      <td>...</td>\n",
       "      <td>...</td>\n",
       "      <td>...</td>\n",
       "      <td>...</td>\n",
       "      <td>...</td>\n",
       "      <td>...</td>\n",
       "      <td>...</td>\n",
       "      <td>...</td>\n",
       "      <td>...</td>\n",
       "      <td>...</td>\n",
       "      <td>...</td>\n",
       "      <td>...</td>\n",
       "      <td>...</td>\n",
       "      <td>...</td>\n",
       "    </tr>\n",
       "    <tr>\n",
       "      <th>9995</th>\n",
       "      <td>9996</td>\n",
       "      <td>15606229</td>\n",
       "      <td>Obijiaku</td>\n",
       "      <td>771</td>\n",
       "      <td>France</td>\n",
       "      <td>Male</td>\n",
       "      <td>39</td>\n",
       "      <td>5</td>\n",
       "      <td>0.00</td>\n",
       "      <td>2</td>\n",
       "      <td>1</td>\n",
       "      <td>0</td>\n",
       "      <td>96270.64</td>\n",
       "      <td>0</td>\n",
       "    </tr>\n",
       "    <tr>\n",
       "      <th>9996</th>\n",
       "      <td>9997</td>\n",
       "      <td>15569892</td>\n",
       "      <td>Johnstone</td>\n",
       "      <td>516</td>\n",
       "      <td>France</td>\n",
       "      <td>Male</td>\n",
       "      <td>35</td>\n",
       "      <td>10</td>\n",
       "      <td>57369.61</td>\n",
       "      <td>1</td>\n",
       "      <td>1</td>\n",
       "      <td>1</td>\n",
       "      <td>101699.77</td>\n",
       "      <td>0</td>\n",
       "    </tr>\n",
       "    <tr>\n",
       "      <th>9997</th>\n",
       "      <td>9998</td>\n",
       "      <td>15584532</td>\n",
       "      <td>Liu</td>\n",
       "      <td>709</td>\n",
       "      <td>France</td>\n",
       "      <td>Female</td>\n",
       "      <td>36</td>\n",
       "      <td>7</td>\n",
       "      <td>0.00</td>\n",
       "      <td>1</td>\n",
       "      <td>0</td>\n",
       "      <td>1</td>\n",
       "      <td>42085.58</td>\n",
       "      <td>1</td>\n",
       "    </tr>\n",
       "    <tr>\n",
       "      <th>9998</th>\n",
       "      <td>9999</td>\n",
       "      <td>15682355</td>\n",
       "      <td>Sabbatini</td>\n",
       "      <td>772</td>\n",
       "      <td>Germany</td>\n",
       "      <td>Male</td>\n",
       "      <td>42</td>\n",
       "      <td>3</td>\n",
       "      <td>75075.31</td>\n",
       "      <td>2</td>\n",
       "      <td>1</td>\n",
       "      <td>0</td>\n",
       "      <td>92888.52</td>\n",
       "      <td>1</td>\n",
       "    </tr>\n",
       "    <tr>\n",
       "      <th>9999</th>\n",
       "      <td>10000</td>\n",
       "      <td>15628319</td>\n",
       "      <td>Walker</td>\n",
       "      <td>792</td>\n",
       "      <td>France</td>\n",
       "      <td>Female</td>\n",
       "      <td>28</td>\n",
       "      <td>4</td>\n",
       "      <td>130142.79</td>\n",
       "      <td>1</td>\n",
       "      <td>1</td>\n",
       "      <td>0</td>\n",
       "      <td>38190.78</td>\n",
       "      <td>0</td>\n",
       "    </tr>\n",
       "  </tbody>\n",
       "</table>\n",
       "<p>10000 rows × 14 columns</p>\n",
       "</div>"
      ],
      "text/plain": [
       "      RowNumber  CustomerId    Surname  CreditScore Geography  Gender  Age  \\\n",
       "0             1    15634602   Hargrave          619    France  Female   42   \n",
       "1             2    15647311       Hill          608     Spain  Female   41   \n",
       "2             3    15619304       Onio          502    France  Female   42   \n",
       "3             4    15701354       Boni          699    France  Female   39   \n",
       "4             5    15737888   Mitchell          850     Spain  Female   43   \n",
       "...         ...         ...        ...          ...       ...     ...  ...   \n",
       "9995       9996    15606229   Obijiaku          771    France    Male   39   \n",
       "9996       9997    15569892  Johnstone          516    France    Male   35   \n",
       "9997       9998    15584532        Liu          709    France  Female   36   \n",
       "9998       9999    15682355  Sabbatini          772   Germany    Male   42   \n",
       "9999      10000    15628319     Walker          792    France  Female   28   \n",
       "\n",
       "      Tenure    Balance  NumOfProducts  HasCrCard  IsActiveMember  \\\n",
       "0          2       0.00              1          1               1   \n",
       "1          1   83807.86              1          0               1   \n",
       "2          8  159660.80              3          1               0   \n",
       "3          1       0.00              2          0               0   \n",
       "4          2  125510.82              1          1               1   \n",
       "...      ...        ...            ...        ...             ...   \n",
       "9995       5       0.00              2          1               0   \n",
       "9996      10   57369.61              1          1               1   \n",
       "9997       7       0.00              1          0               1   \n",
       "9998       3   75075.31              2          1               0   \n",
       "9999       4  130142.79              1          1               0   \n",
       "\n",
       "      EstimatedSalary  Exited  \n",
       "0           101348.88       1  \n",
       "1           112542.58       0  \n",
       "2           113931.57       1  \n",
       "3            93826.63       0  \n",
       "4            79084.10       0  \n",
       "...               ...     ...  \n",
       "9995         96270.64       0  \n",
       "9996        101699.77       0  \n",
       "9997         42085.58       1  \n",
       "9998         92888.52       1  \n",
       "9999         38190.78       0  \n",
       "\n",
       "[10000 rows x 14 columns]"
      ]
     },
     "execution_count": 3,
     "metadata": {},
     "output_type": "execute_result"
    }
   ],
   "source": [
    "dataset\n"
   ]
  },
  {
   "cell_type": "code",
   "execution_count": 8,
   "id": "thermal-appreciation",
   "metadata": {},
   "outputs": [],
   "source": [
    "# Extracting Columns from dataset\n",
    "X = dataset.iloc[:,3:13]\n",
    "Y = dataset.iloc[:,13]"
   ]
  },
  {
   "cell_type": "code",
   "execution_count": 10,
   "id": "canadian-marathon",
   "metadata": {},
   "outputs": [],
   "source": [
    "# Creating dummy variables(EMPTY COLUMNS) for converting categorical features  to numerical and storing them \n",
    "geography=pd.get_dummies(X[\"Geography\"],drop_first=True)\n",
    "gender=pd.get_dummies(X['Gender'],drop_first=True)"
   ]
  },
  {
   "cell_type": "code",
   "execution_count": 11,
   "id": "coupled-illness",
   "metadata": {},
   "outputs": [],
   "source": [
    "## Concatenate the Data Frames\n",
    "## Add the dummy columns to main dataset\n",
    "X=pd.concat([X,geography,gender],axis=1)\n",
    "\n",
    "## Drop Unnecessary columns\n",
    "X=X.drop(['Geography','Gender'],axis=1)\n"
   ]
  },
  {
   "cell_type": "code",
   "execution_count": 14,
   "id": "dependent-minnesota",
   "metadata": {},
   "outputs": [],
   "source": [
    "from sklearn.model_selection import train_test_split\n",
    "# Splitting the dataset into the Training set and Test set\n",
    "X_train, X_test, y_train,y_test = train_test_split(X,y, test_size=0.2, random_state=0)"
   ]
  },
  {
   "cell_type": "code",
   "execution_count": 15,
   "id": "selective-comfort",
   "metadata": {},
   "outputs": [],
   "source": [
    "# Feature Scaling\n",
    "from sklearn.preprocessing import StandardScaler\n",
    "sc = StandardScaler()\n",
    "X_train = sc.fit_transform(X_train)\n",
    "X_test = sc.transform(X_test)"
   ]
  },
  {
   "cell_type": "code",
   "execution_count": 16,
   "id": "square-western",
   "metadata": {},
   "outputs": [
    {
     "name": "stderr",
     "output_type": "stream",
     "text": [
      "/usr/lib/python3/dist-packages/requests/__init__.py:89: RequestsDependencyWarning: urllib3 (1.26.6) or chardet (3.0.4) doesn't match a supported version!\n",
      "  warnings.warn(\"urllib3 ({}) or chardet ({}) doesn't match a supported \"\n"
     ]
    }
   ],
   "source": [
    "# Part 2 - Now let's make the ANN!\n",
    "\n",
    "# Importing the Keras libraries and packages\n",
    "import keras\n",
    "from keras.models import Sequential # Responsible in creating NN\n",
    "from keras.layers import Dense # Creating HIdden Layer\n",
    "from keras.layers import LeakyReLU,PReLU,ELU # For Layers\n",
    "from keras.layers import Dropout # Regularization parameter "
   ]
  },
  {
   "cell_type": "code",
   "execution_count": 17,
   "id": "referenced-pierce",
   "metadata": {},
   "outputs": [],
   "source": [
    "\n",
    "# Initialising the ANN\n",
    "# Empty NN\n",
    "classifier = Sequential()"
   ]
  },
  {
   "cell_type": "code",
   "execution_count": 19,
   "id": "known-testing",
   "metadata": {},
   "outputs": [],
   "source": [
    "# Input & 1st hidden layer\n",
    "# Adding the input layer and the first hidden layer\n",
    "classifier.add(Dense(units = 6, kernel_initializer = 'he_uniform',activation='relu',input_dim = 11))\n"
   ]
  },
  {
   "cell_type": "code",
   "execution_count": 20,
   "id": "modified-pointer",
   "metadata": {},
   "outputs": [],
   "source": [
    "# 2nd hidden layer\n",
    "# Adding the second hidden layer\n",
    "classifier.add(Dense(units = 6, kernel_initializer = 'he_uniform',activation='relu'))\n"
   ]
  },
  {
   "cell_type": "code",
   "execution_count": 21,
   "id": "compressed-pride",
   "metadata": {},
   "outputs": [],
   "source": [
    "# Output layer\n",
    "# Adding the output layer\n",
    "classifier.add(Dense(units = 1, kernel_initializer = 'glorot_uniform',activation='sigmoid'))\n"
   ]
  },
  {
   "cell_type": "code",
   "execution_count": 22,
   "id": "rotary-correction",
   "metadata": {},
   "outputs": [],
   "source": []
  },
  {
   "cell_type": "code",
   "execution_count": null,
   "id": "third-lucas",
   "metadata": {},
   "outputs": [],
   "source": []
  },
  {
   "cell_type": "code",
   "execution_count": 23,
   "id": "infectious-repeat",
   "metadata": {},
   "outputs": [
    {
     "name": "stdout",
     "output_type": "stream",
     "text": [
      "Model: \"sequential\"\n",
      "_________________________________________________________________\n",
      " Layer (type)                Output Shape              Param #   \n",
      "=================================================================\n",
      " dense (Dense)               (None, 6)                 72        \n",
      "                                                                 \n",
      " dense_1 (Dense)             (None, 6)                 42        \n",
      "                                                                 \n",
      " dense_2 (Dense)             (None, 1)                 7         \n",
      "                                                                 \n",
      "=================================================================\n",
      "Total params: 121\n",
      "Trainable params: 121\n",
      "Non-trainable params: 0\n",
      "_________________________________________________________________\n"
     ]
    }
   ],
   "source": [
    "classifier.summary()"
   ]
  },
  {
   "cell_type": "code",
   "execution_count": 24,
   "id": "interracial-fancy",
   "metadata": {},
   "outputs": [],
   "source": [
    "# Compiling the ANN\n",
    "classifier.compile(optimizer = 'adam', loss = 'binary_crossentropy', metrics = ['accuracy'])\n"
   ]
  },
  {
   "cell_type": "code",
   "execution_count": 41,
   "id": "outstanding-michael",
   "metadata": {},
   "outputs": [
    {
     "name": "stdout",
     "output_type": "stream",
     "text": [
      "Epoch 1/50\n",
      "54/54 [==============================] - 0s 3ms/step - loss: 0.3226 - accuracy: 0.8666 - val_loss: 0.3513 - val_accuracy: 0.8641\n",
      "Epoch 2/50\n",
      "54/54 [==============================] - 0s 2ms/step - loss: 0.3221 - accuracy: 0.8645 - val_loss: 0.3514 - val_accuracy: 0.8633\n",
      "Epoch 3/50\n",
      "54/54 [==============================] - 0s 2ms/step - loss: 0.3219 - accuracy: 0.8651 - val_loss: 0.3514 - val_accuracy: 0.8622\n",
      "Epoch 4/50\n",
      "54/54 [==============================] - 0s 2ms/step - loss: 0.3219 - accuracy: 0.8656 - val_loss: 0.3514 - val_accuracy: 0.8629\n",
      "Epoch 5/50\n",
      "54/54 [==============================] - 0s 2ms/step - loss: 0.3218 - accuracy: 0.8651 - val_loss: 0.3515 - val_accuracy: 0.8622\n",
      "Epoch 6/50\n",
      "54/54 [==============================] - 0s 2ms/step - loss: 0.3217 - accuracy: 0.8647 - val_loss: 0.3516 - val_accuracy: 0.8626\n",
      "Epoch 7/50\n",
      "54/54 [==============================] - 0s 3ms/step - loss: 0.3216 - accuracy: 0.8653 - val_loss: 0.3515 - val_accuracy: 0.8626\n",
      "Epoch 8/50\n",
      "54/54 [==============================] - 0s 3ms/step - loss: 0.3217 - accuracy: 0.8653 - val_loss: 0.3516 - val_accuracy: 0.8629\n",
      "Epoch 9/50\n",
      "54/54 [==============================] - 0s 3ms/step - loss: 0.3216 - accuracy: 0.8647 - val_loss: 0.3517 - val_accuracy: 0.8641\n",
      "Epoch 10/50\n",
      "54/54 [==============================] - 0s 3ms/step - loss: 0.3216 - accuracy: 0.8653 - val_loss: 0.3516 - val_accuracy: 0.8629\n",
      "Epoch 11/50\n",
      "54/54 [==============================] - 0s 3ms/step - loss: 0.3215 - accuracy: 0.8655 - val_loss: 0.3517 - val_accuracy: 0.8629\n",
      "Epoch 12/50\n",
      "54/54 [==============================] - 0s 3ms/step - loss: 0.3214 - accuracy: 0.8651 - val_loss: 0.3517 - val_accuracy: 0.8629\n",
      "Epoch 13/50\n",
      "54/54 [==============================] - 0s 3ms/step - loss: 0.3216 - accuracy: 0.8651 - val_loss: 0.3517 - val_accuracy: 0.8622\n",
      "Epoch 14/50\n",
      "54/54 [==============================] - 0s 3ms/step - loss: 0.3216 - accuracy: 0.8645 - val_loss: 0.3518 - val_accuracy: 0.8626\n",
      "Epoch 15/50\n",
      "54/54 [==============================] - 0s 3ms/step - loss: 0.3215 - accuracy: 0.8642 - val_loss: 0.3517 - val_accuracy: 0.8629\n",
      "Epoch 16/50\n",
      "54/54 [==============================] - 0s 2ms/step - loss: 0.3215 - accuracy: 0.8655 - val_loss: 0.3517 - val_accuracy: 0.8622\n",
      "Epoch 17/50\n",
      "54/54 [==============================] - 0s 3ms/step - loss: 0.3215 - accuracy: 0.8647 - val_loss: 0.3517 - val_accuracy: 0.8622\n",
      "Epoch 18/50\n",
      "54/54 [==============================] - 0s 3ms/step - loss: 0.3214 - accuracy: 0.8651 - val_loss: 0.3517 - val_accuracy: 0.8629\n",
      "Epoch 19/50\n",
      "54/54 [==============================] - 0s 3ms/step - loss: 0.3215 - accuracy: 0.8655 - val_loss: 0.3517 - val_accuracy: 0.8637\n",
      "Epoch 20/50\n",
      "54/54 [==============================] - 0s 3ms/step - loss: 0.3215 - accuracy: 0.8655 - val_loss: 0.3519 - val_accuracy: 0.8633\n",
      "Epoch 21/50\n",
      "54/54 [==============================] - 0s 3ms/step - loss: 0.3214 - accuracy: 0.8647 - val_loss: 0.3518 - val_accuracy: 0.8622\n",
      "Epoch 22/50\n",
      "54/54 [==============================] - 0s 3ms/step - loss: 0.3215 - accuracy: 0.8656 - val_loss: 0.3518 - val_accuracy: 0.8633\n",
      "Epoch 23/50\n",
      "54/54 [==============================] - 0s 2ms/step - loss: 0.3213 - accuracy: 0.8640 - val_loss: 0.3518 - val_accuracy: 0.8629\n",
      "Epoch 24/50\n",
      "54/54 [==============================] - 0s 2ms/step - loss: 0.3214 - accuracy: 0.8653 - val_loss: 0.3518 - val_accuracy: 0.8633\n",
      "Epoch 25/50\n",
      "54/54 [==============================] - 0s 2ms/step - loss: 0.3214 - accuracy: 0.8656 - val_loss: 0.3519 - val_accuracy: 0.8633\n",
      "Epoch 26/50\n",
      "54/54 [==============================] - 0s 3ms/step - loss: 0.3213 - accuracy: 0.8645 - val_loss: 0.3518 - val_accuracy: 0.8633\n",
      "Epoch 27/50\n",
      "54/54 [==============================] - 0s 2ms/step - loss: 0.3216 - accuracy: 0.8656 - val_loss: 0.3518 - val_accuracy: 0.8622\n",
      "Epoch 28/50\n",
      "54/54 [==============================] - 0s 2ms/step - loss: 0.3218 - accuracy: 0.8656 - val_loss: 0.3519 - val_accuracy: 0.8622\n",
      "Epoch 29/50\n",
      "54/54 [==============================] - 0s 2ms/step - loss: 0.3213 - accuracy: 0.8660 - val_loss: 0.3519 - val_accuracy: 0.8629\n",
      "Epoch 30/50\n",
      "54/54 [==============================] - 0s 2ms/step - loss: 0.3213 - accuracy: 0.8660 - val_loss: 0.3519 - val_accuracy: 0.8614\n",
      "Epoch 31/50\n",
      "54/54 [==============================] - 0s 2ms/step - loss: 0.3214 - accuracy: 0.8666 - val_loss: 0.3519 - val_accuracy: 0.8618\n",
      "Epoch 32/50\n",
      "54/54 [==============================] - 0s 2ms/step - loss: 0.3216 - accuracy: 0.8647 - val_loss: 0.3520 - val_accuracy: 0.8614\n",
      "Epoch 33/50\n",
      "54/54 [==============================] - 0s 2ms/step - loss: 0.3214 - accuracy: 0.8653 - val_loss: 0.3519 - val_accuracy: 0.8614\n",
      "Epoch 34/50\n",
      "54/54 [==============================] - 0s 2ms/step - loss: 0.3212 - accuracy: 0.8645 - val_loss: 0.3520 - val_accuracy: 0.8622\n",
      "Epoch 35/50\n",
      "54/54 [==============================] - 0s 3ms/step - loss: 0.3214 - accuracy: 0.8649 - val_loss: 0.3520 - val_accuracy: 0.8622\n",
      "Epoch 36/50\n",
      "54/54 [==============================] - 0s 3ms/step - loss: 0.3214 - accuracy: 0.8655 - val_loss: 0.3520 - val_accuracy: 0.8622\n",
      "Epoch 37/50\n",
      "54/54 [==============================] - 0s 3ms/step - loss: 0.3214 - accuracy: 0.8658 - val_loss: 0.3519 - val_accuracy: 0.8633\n",
      "Epoch 38/50\n",
      "54/54 [==============================] - 0s 3ms/step - loss: 0.3212 - accuracy: 0.8651 - val_loss: 0.3520 - val_accuracy: 0.8618\n",
      "Epoch 39/50\n",
      "54/54 [==============================] - 0s 2ms/step - loss: 0.3214 - accuracy: 0.8662 - val_loss: 0.3521 - val_accuracy: 0.8629\n",
      "Epoch 40/50\n",
      "54/54 [==============================] - 0s 2ms/step - loss: 0.3214 - accuracy: 0.8655 - val_loss: 0.3520 - val_accuracy: 0.8626\n",
      "Epoch 41/50\n",
      "54/54 [==============================] - 0s 3ms/step - loss: 0.3217 - accuracy: 0.8658 - val_loss: 0.3519 - val_accuracy: 0.8622\n",
      "Epoch 42/50\n",
      "54/54 [==============================] - 0s 2ms/step - loss: 0.3211 - accuracy: 0.8651 - val_loss: 0.3519 - val_accuracy: 0.8626\n",
      "Epoch 43/50\n",
      "54/54 [==============================] - 0s 2ms/step - loss: 0.3212 - accuracy: 0.8647 - val_loss: 0.3518 - val_accuracy: 0.8614\n",
      "Epoch 44/50\n",
      "54/54 [==============================] - 0s 2ms/step - loss: 0.3212 - accuracy: 0.8655 - val_loss: 0.3521 - val_accuracy: 0.8618\n",
      "Epoch 45/50\n",
      "54/54 [==============================] - 0s 2ms/step - loss: 0.3215 - accuracy: 0.8653 - val_loss: 0.3518 - val_accuracy: 0.8614\n",
      "Epoch 46/50\n",
      "54/54 [==============================] - 0s 2ms/step - loss: 0.3213 - accuracy: 0.8664 - val_loss: 0.3518 - val_accuracy: 0.8618\n",
      "Epoch 47/50\n",
      "54/54 [==============================] - 0s 2ms/step - loss: 0.3215 - accuracy: 0.8642 - val_loss: 0.3519 - val_accuracy: 0.8618\n",
      "Epoch 48/50\n",
      "54/54 [==============================] - 0s 3ms/step - loss: 0.3211 - accuracy: 0.8656 - val_loss: 0.3521 - val_accuracy: 0.8618\n",
      "Epoch 49/50\n",
      "54/54 [==============================] - 0s 3ms/step - loss: 0.3212 - accuracy: 0.8656 - val_loss: 0.3522 - val_accuracy: 0.8626\n",
      "Epoch 50/50\n",
      "54/54 [==============================] - 0s 3ms/step - loss: 0.3211 - accuracy: 0.8658 - val_loss: 0.3518 - val_accuracy: 0.8614\n"
     ]
    }
   ],
   "source": [
    "# Fitting the ANN to the Training set\n",
    "model_history=classifier.fit(X_train, y_train,validation_split=0.33, batch_size = 100, epochs = 50)\n"
   ]
  },
  {
   "cell_type": "code",
   "execution_count": 33,
   "id": "rental-picnic",
   "metadata": {},
   "outputs": [
    {
     "name": "stdout",
     "output_type": "stream",
     "text": [
      "dict_keys(['loss', 'accuracy', 'val_loss', 'val_accuracy'])\n"
     ]
    }
   ],
   "source": [
    "\n",
    "# list all data in history\n",
    "\n",
    "print(model_history.history.keys())"
   ]
  },
  {
   "cell_type": "code",
   "execution_count": 42,
   "id": "parallel-rachel",
   "metadata": {},
   "outputs": [
    {
     "data": {
      "image/png": "[encoded data removed]",
      "text/plain": [
       "<Figure size 432x288 with 1 Axes>"
      ]
     },
     "metadata": {
      "needs_background": "light"
     },
     "output_type": "display_data"
    }
   ],
   "source": [
    "# summarize history for accuracy\n",
    "plt.plot(model_history.history['accuracy'])\n",
    "plt.plot(model_history.history['val_accuracy'])\n",
    "plt.title('model accuracy')\n",
    "plt.ylabel('accuracy')\n",
    "plt.xlabel('epoch')\n",
    "plt.legend(['train', 'test'], loc='upper left')\n",
    "plt.show()"
   ]
  },
  {
   "cell_type": "code",
   "execution_count": 43,
   "id": "fundamental-macintosh",
   "metadata": {},
   "outputs": [
    {
     "data": {
      "image/png": "[encoded data removed]",
      "text/plain": [
       "<Figure size 432x288 with 1 Axes>"
      ]
     },
     "metadata": {
      "needs_background": "light"
     },
     "output_type": "display_data"
    }
   ],
   "source": [
    "\n",
    "# summarize history for loss\n",
    "plt.plot(model_history.history['loss'])\n",
    "plt.plot(model_history.history['val_loss'])\n",
    "plt.title('model loss')\n",
    "plt.ylabel('loss')\n",
    "plt.xlabel('epoch')\n",
    "plt.legend(['train', 'test'], loc='upper left')\n",
    "plt.show()"
   ]
  },
  {
   "cell_type": "code",
   "execution_count": 44,
   "id": "union-launch",
   "metadata": {},
   "outputs": [],
   "source": [
    "\n",
    "# Part 3 - Making the predictions and evaluating the model\n",
    "\n",
    "# Predicting the Test set results\n",
    "y_pred = classifier.predict(X_test)\n",
    "y_pred = (y_pred > 0.5)"
   ]
  },
  {
   "cell_type": "code",
   "execution_count": 45,
   "id": "short-polymer",
   "metadata": {},
   "outputs": [],
   "source": [
    "# Making the Confusion Matrix\n",
    "from sklearn.metrics import confusion_matrix\n",
    "cm = confusion_matrix(y_test, y_pred)"
   ]
  },
  {
   "cell_type": "code",
   "execution_count": 46,
   "id": "communist-immigration",
   "metadata": {},
   "outputs": [
    {
     "data": {
      "text/plain": [
       "array([[1502,   93],\n",
       "       [ 187,  218]])"
      ]
     },
     "execution_count": 46,
     "metadata": {},
     "output_type": "execute_result"
    }
   ],
   "source": [
    "cm"
   ]
  },
  {
   "cell_type": "code",
   "execution_count": 47,
   "id": "prime-preview",
   "metadata": {},
   "outputs": [],
   "source": [
    "# Calculate the Accuracy\n",
    "from sklearn.metrics import accuracy_score\n",
    "score=accuracy_score(y_pred,y_test)"
   ]
  },
  {
   "cell_type": "code",
   "execution_count": 48,
   "id": "dependent-bottle",
   "metadata": {},
   "outputs": [
    {
     "data": {
      "text/plain": [
       "0.86"
      ]
     },
     "execution_count": 48,
     "metadata": {},
     "output_type": "execute_result"
    }
   ],
   "source": [
    "score\n"
   ]
  }
 ],
 "metadata": {
  "kernelspec": {
   "display_name": "Python 3",
   "language": "python",
   "name": "python3"
  },
  "language_info": {
   "codemirror_mode": {
    "name": "ipython",
    "version": 3
   },
   "file_extension": ".py",
   "mimetype": "text/x-python",
   "name": "python",
   "nbconvert_exporter": "python",
   "pygments_lexer": "ipython3",
   "version": "3.8.10"
  }
 },
 "nbformat": 4,
 "nbformat_minor": 5
}
